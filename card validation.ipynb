{
 "cells": [
  {
   "cell_type": "code",
   "execution_count": 68,
   "id": "02cf93bd-b32a-43c4-bf6f-96bf90940ce8",
   "metadata": {},
   "outputs": [],
   "source": [
    "def checking4con_digits(cardno):\n",
    "    if len(cardno)==16:\n",
    "        re=checking_digits(cardno)\n",
    "        return re\n",
    "    if len(cardno)==19:\n",
    "        h=[]\n",
    "        h.append(cardno[0])\n",
    "        for i in range(1, len(cardno)):\n",
    "            if cardno[i]!=\"-\":\n",
    "                if h[0]==cardno[i]:\n",
    "                    h.append(cardno[i])\n",
    "                    if len(h)==4:\n",
    "                        return \"wrong\"\n",
    "                    \n",
    "                else:\n",
    "                    h=[]\n",
    "                    h.append(cardno[i])\n",
    "        return \"right\""
   ]
  },
  {
   "cell_type": "code",
   "execution_count": 69,
   "id": "f82b4144-7de8-4885-9895-ab231bafdd5f",
   "metadata": {},
   "outputs": [],
   "source": [
    "def checking_digits(cardno):\n",
    "    if len(cardno)==16 or len(cardno)==19:\n",
    "        c16=0\n",
    "        for i in range(len(cardno)):\n",
    "            tr=cardno[i].isdigit()\n",
    "            if tr == True:\n",
    "                c16=c16+1\n",
    "        if c16==16 :\n",
    "            return \"right\"\n",
    "        else:                 \n",
    "            return \"wrong\"\n",
    "    else:\n",
    "            return \"wrong\"\n"
   ]
  },
  {
   "cell_type": "code",
   "execution_count": 70,
   "id": "4b86799f-42d7-4beb-8054-5687d3efdf71",
   "metadata": {},
   "outputs": [],
   "source": [
    "def checking_after4_digits (cardno):\n",
    "    if len(cardno)==19 or len(cardno)==16:\n",
    "        if len(cardno)==16:\n",
    "            r2=checking_digits(cardno)\n",
    "            return r2\n",
    "        if len(cardno)==19:\n",
    "            coi=0\n",
    "            for i in range(len(cardno)):\n",
    "                if cardno[i]==\"-\":\n",
    "                    coi=coi+1\n",
    "            if coi==3 and cardno[4]==\"-\" and cardno[9]==\"-\" and cardno[14]==\"-\":\n",
    "                return \"right\"\n",
    "            else:\n",
    "                return \"wrong\"\n",
    "                \n",
    "            \n",
    "    else:\n",
    "        return \"wrong\""
   ]
  },
  {
   "cell_type": "code",
   "execution_count": 73,
   "id": "f31912fe-b7a1-4fe0-a2ef-44855e70f921",
   "metadata": {},
   "outputs": [
    {
     "name": "stdout",
     "output_type": "stream",
     "text": [
      "Valid\n",
      "Valid\n",
      "Invalid\n",
      "Valid\n",
      "Invalid\n",
      "Invalid\n"
     ]
    }
   ],
   "source": [
    "\n",
    "    \n",
    "list1=[\n",
    "    \"4123456789123456\",\n",
    "\"5123-4567-8912-3456\",\n",
    "\"61234-567-8912-3456\",\n",
    "\"4123356789123456\",\n",
    "\"5133-3367-8912-3456\",\n",
    "\"5123 - 3567 - 8912 - 3456\"\n",
    "]    \n",
    "    \n",
    "for l in range(len(list1)):\n",
    "    cardno=list1[l]\n",
    "    if cardno[0]==\"4\" or cardno[0]==\"5\" or cardno[0]==\"6\":\n",
    "        c1=checking_digits(cardno)\n",
    "        c2=checking_after4_digits(cardno)\n",
    "        c3=checking4con_digits(cardno)\n",
    "        if c1==\"right\" and c2 ==\"right\" and c3==\"right\":\n",
    "            print(\"Valid\")\n",
    "        else:\n",
    "            print(\"Invalid\")\n",
    "        \n",
    "        \n",
    "    else:\n",
    "        print(\"Invalid\")\n",
    "        \n",
    "\n",
    "\n",
    "\n"
   ]
  },
  {
   "cell_type": "code",
   "execution_count": null,
   "id": "0376e387-b27f-4c64-ac25-c1941e80e437",
   "metadata": {},
   "outputs": [],
   "source": []
  },
  {
   "cell_type": "code",
   "execution_count": null,
   "id": "e28c1204-481b-4603-8310-809ba57d8cb2",
   "metadata": {},
   "outputs": [],
   "source": []
  }
 ],
 "metadata": {
  "kernelspec": {
   "display_name": "Python 3 (ipykernel)",
   "language": "python",
   "name": "python3"
  },
  "language_info": {
   "codemirror_mode": {
    "name": "ipython",
    "version": 3
   },
   "file_extension": ".py",
   "mimetype": "text/x-python",
   "name": "python",
   "nbconvert_exporter": "python",
   "pygments_lexer": "ipython3",
   "version": "3.11.7"
  }
 },
 "nbformat": 4,
 "nbformat_minor": 5
}
